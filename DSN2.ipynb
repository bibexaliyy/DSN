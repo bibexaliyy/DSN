{
 "cells": [
  {
   "cell_type": "code",
   "execution_count": 1,
   "metadata": {},
   "outputs": [
    {
     "name": "stdout",
     "output_type": "stream",
     "text": [
      "a is less than 10\n",
      "1\n",
      "a is less than 10\n",
      "2\n",
      "a is less than 10\n",
      "3\n",
      "a is less than 10\n",
      "4\n",
      "a is less than 10\n",
      "5\n",
      "a is less than 10\n",
      "6\n",
      "a is less than 10\n",
      "7\n",
      "a is less than 10\n",
      "8\n",
      "a is less than 10\n",
      "9\n"
     ]
    }
   ],
   "source": [
    "a=1\n",
    "while a < 10:\n",
    "    print('a is less than 10')\n",
    "    print(a)\n",
    "    a = a + 1\n"
   ]
  },
  {
   "cell_type": "code",
   "execution_count": 2,
   "metadata": {},
   "outputs": [
    {
     "name": "stdout",
     "output_type": "stream",
     "text": [
      "x is currently\n",
      "0\n",
      "adding 1 to x\n",
      "x is currently\n",
      "1\n",
      "adding 1 to x\n",
      "x is currently\n",
      "2\n",
      "adding 1 to x\n"
     ]
    }
   ],
   "source": [
    "x=0\n",
    "while x < 3:\n",
    "    print('x is currently')\n",
    "    print (x)\n",
    "    print(\"adding 1 to x\")\n",
    "    x=x+1"
   ]
  },
  {
   "cell_type": "code",
   "execution_count": 4,
   "metadata": {},
   "outputs": [
    {
     "name": "stdout",
     "output_type": "stream",
     "text": [
      "x is currently\n",
      "2\n",
      "adding 1 to x\n"
     ]
    }
   ],
   "source": [
    "x=2\n",
    "while x < 6:\n",
    "    print('x is currently')\n",
    "    print (x)\n",
    "    print(\"adding 1 to x\")\n",
    "    x=x+1\n",
    "    if x==3:\n",
    "        break"
   ]
  },
  {
   "cell_type": "code",
   "execution_count": 6,
   "metadata": {},
   "outputs": [
    {
     "name": "stdout",
     "output_type": "stream",
     "text": [
      "1\n",
      "4\n",
      "9\n",
      "16\n"
     ]
    }
   ],
   "source": [
    "#foor loop with a list\n",
    "mylist=[1,2,3,4,]\n",
    "for num in mylist:\n",
    "    print(num**2)"
   ]
  },
  {
   "cell_type": "code",
   "execution_count": 7,
   "metadata": {},
   "outputs": [
    {
     "name": "stdout",
     "output_type": "stream",
     "text": [
      "num,end=\n",
      "num,end=\n",
      "num,end=\n",
      "num,end=\n"
     ]
    }
   ],
   "source": [
    "for i in mylist:\n",
    "    print('num,end=')"
   ]
  },
  {
   "cell_type": "code",
   "execution_count": 8,
   "metadata": {},
   "outputs": [
    {
     "name": "stdout",
     "output_type": "stream",
     "text": [
      "i am in a for looop\n",
      "i am in a for looop\n",
      "i am in a for looop\n",
      "i am in a for looop\n"
     ]
    }
   ],
   "source": [
    "for i in mylist:\n",
    "    print('i am in a for looop')"
   ]
  },
  {
   "cell_type": "code",
   "execution_count": 7,
   "metadata": {},
   "outputs": [
    {
     "name": "stdout",
     "output_type": "stream",
     "text": [
      "100\n",
      "10\n",
      "20\n",
      "30\n",
      "45\n",
      "i am in a for loop\n",
      "52\n",
      "3\n"
     ]
    }
   ],
   "source": [
    "mylist=[100,10,20,30,45,\"i am in a for loop\",52,3]\n",
    "for i in range(len(mylist)):\n",
    "    print(mylist[i])"
   ]
  },
  {
   "cell_type": "code",
   "execution_count": 14,
   "metadata": {},
   "outputs": [
    {
     "ename": "SyntaxError",
     "evalue": "unexpected character after line continuation character (<ipython-input-14-a4b8c9d2dac4>, line 1)",
     "output_type": "error",
     "traceback": [
      "\u001b[1;36m  File \u001b[1;32m\"<ipython-input-14-a4b8c9d2dac4>\"\u001b[1;36m, line \u001b[1;32m1\u001b[0m\n\u001b[1;33m    for i in (\"This is a string and this is also my first attempt\"\\n):\u001b[0m\n\u001b[1;37m                                                                      ^\u001b[0m\n\u001b[1;31mSyntaxError\u001b[0m\u001b[1;31m:\u001b[0m unexpected character after line continuation character\n"
     ]
    }
   ],
   "source": [
    "for i in (\"This is a string and this is also my first attempt\"):\n",
    "    print(i)"
   ]
  },
  {
   "cell_type": "code",
   "execution_count": null,
   "metadata": {},
   "outputs": [],
   "source": []
  }
 ],
 "metadata": {
  "kernelspec": {
   "display_name": "Python 3",
   "language": "python",
   "name": "python3"
  },
  "language_info": {
   "codemirror_mode": {
    "name": "ipython",
    "version": 3
   },
   "file_extension": ".py",
   "mimetype": "text/x-python",
   "name": "python",
   "nbconvert_exporter": "python",
   "pygments_lexer": "ipython3",
   "version": "3.8.5"
  }
 },
 "nbformat": 4,
 "nbformat_minor": 4
}
